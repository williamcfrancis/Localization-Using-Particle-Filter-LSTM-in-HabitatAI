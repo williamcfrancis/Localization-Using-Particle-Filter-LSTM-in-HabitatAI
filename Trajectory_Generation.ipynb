{
  "cells": [
    {
      "cell_type": "code",
      "execution_count": null,
      "metadata": {
        "id": "uta7NM6nhPNf"
      },
      "outputs": [],
      "source": [
        "# @title Installation\n",
        "\n",
        "!curl -L https://raw.githubusercontent.com/facebookresearch/habitat-sim/main/examples/colab_utils/colab_install.sh | NIGHTLY=true bash -s"
      ]
    },
    {
      "cell_type": "code",
      "execution_count": null,
      "metadata": {
        "lines_to_next_cell": 2,
        "id": "BAeavNL6hPNg",
        "colab": {
          "base_uri": "https://localhost:8080/"
        },
        "outputId": "18a6ff8f-2e42-414e-f123-b78ae7e75313"
      },
      "outputs": [
        {
          "output_type": "stream",
          "name": "stdout",
          "text": [
            "/content/habitat-sim\n",
            "/content/habitat-sim\n"
          ]
        }
      ],
      "source": [
        "import math\n",
        "import os\n",
        "import random\n",
        "import sys\n",
        "import pickle\n",
        "import git\n",
        "import imageio\n",
        "import magnum as mn\n",
        "import numpy as np\n",
        "\n",
        "%matplotlib inline\n",
        "from matplotlib import pyplot as plt\n",
        "from habitat.utils.visualizations import maps\n",
        "from habitat_sim.utils.common import quat_to_coeffs\n",
        "# function to display the topdown map\n",
        "from PIL import Image\n",
        "\n",
        "import habitat_sim\n",
        "from habitat_sim.utils import common as utils\n",
        "from habitat_sim.utils import viz_utils as vut\n",
        "\n",
        "%cd /content/habitat-sim\n",
        "\n",
        "if \"google.colab\" in sys.modules:\n",
        "    # This tells imageio to use the system FFMPEG that has hardware acceleration.\n",
        "    os.environ[\"IMAGEIO_FFMPEG_EXE\"] = \"/usr/bin/ffmpeg\"\n",
        "\n",
        "repo = git.Repo(\".\", search_parent_directories=True)\n",
        "dir_path = repo.working_tree_dir\n",
        "%cd $dir_path\n",
        "data_path = os.path.join(dir_path, \"data\")\n",
        "# @markdown Optionally configure the save path for video output:\n",
        "output_directory = \"examples/tutorials/nav_output/\"  # @param {type:\"string\"}\n",
        "output_path = os.path.join(dir_path, output_directory)\n",
        "if not os.path.exists(output_path):\n",
        "    os.mkdir(output_path)"
      ]
    },
    {
      "cell_type": "markdown",
      "metadata": {
        "id": "SDk5Mi_LhPNm"
      },
      "source": [
        "## Applying actions to the agent"
      ]
    },
    {
      "cell_type": "code",
      "execution_count": null,
      "metadata": {
        "id": "zFcnTMlihPNn"
      },
      "outputs": [],
      "source": [
        "\n",
        "test_scene = \"./data/scene_datasets/mp3d_example/17DRP5sb8fy/17DRP5sb8fy.glb\"\n",
        "\n",
        "rgb_sensor = True  \n",
        "depth_sensor = True  \n",
        "semantic_sensor = True  \n",
        "\n",
        "sim_settings = {\n",
        "    \"width\": 256,  # Spatial resolution of the observations\n",
        "    \"height\": 256,\n",
        "    \"scene\": test_scene,  # Scene path\n",
        "    \"default_agent\": 0,\n",
        "    \"sensor_height\": 1.5,  # Height of sensors in meters\n",
        "    \"color_sensor\": rgb_sensor,  # RGB sensor\n",
        "    \"depth_sensor\": depth_sensor,  # Depth sensor\n",
        "    \"semantic_sensor\": semantic_sensor,  # Semantic sensor\n",
        "    \"seed\": 1,  # used in the random navigation\n",
        "    \"enable_physics\": False,  # kinematics only\n",
        "}"
      ]
    },
    {
      "cell_type": "code",
      "execution_count": null,
      "metadata": {
        "id": "4DljR6mZhPNn"
      },
      "outputs": [],
      "source": [
        "def make_cfg(settings):\n",
        "    sim_cfg = habitat_sim.SimulatorConfiguration()\n",
        "    sim_cfg.gpu_device_id = 0\n",
        "    sim_cfg.scene_id = settings[\"scene\"]\n",
        "    sim_cfg.enable_physics = settings[\"enable_physics\"]\n",
        "\n",
        "    # Note: all sensors must have the same resolution\n",
        "    sensor_specs = []\n",
        "\n",
        "    color_sensor_spec = habitat_sim.CameraSensorSpec()\n",
        "    color_sensor_spec.uuid = \"color_sensor\"\n",
        "    color_sensor_spec.sensor_type = habitat_sim.SensorType.COLOR\n",
        "    color_sensor_spec.resolution = [settings[\"height\"], settings[\"width\"]]\n",
        "    color_sensor_spec.position = [0.0, settings[\"sensor_height\"], 0.0]\n",
        "    color_sensor_spec.sensor_subtype = habitat_sim.SensorSubType.PINHOLE\n",
        "    sensor_specs.append(color_sensor_spec)\n",
        "\n",
        "    depth_sensor_spec = habitat_sim.CameraSensorSpec()\n",
        "    depth_sensor_spec.uuid = \"depth_sensor\"\n",
        "    depth_sensor_spec.sensor_type = habitat_sim.SensorType.DEPTH\n",
        "    depth_sensor_spec.resolution = [settings[\"height\"], settings[\"width\"]]\n",
        "    depth_sensor_spec.position = [0.0, settings[\"sensor_height\"], 0.0]\n",
        "    depth_sensor_spec.sensor_subtype = habitat_sim.SensorSubType.PINHOLE\n",
        "    sensor_specs.append(depth_sensor_spec)\n",
        "\n",
        "    semantic_sensor_spec = habitat_sim.CameraSensorSpec()\n",
        "    semantic_sensor_spec.uuid = \"semantic_sensor\"\n",
        "    semantic_sensor_spec.sensor_type = habitat_sim.SensorType.SEMANTIC\n",
        "    semantic_sensor_spec.resolution = [settings[\"height\"], settings[\"width\"]]\n",
        "    semantic_sensor_spec.position = [0.0, settings[\"sensor_height\"], 0.0]\n",
        "    semantic_sensor_spec.sensor_subtype = habitat_sim.SensorSubType.PINHOLE\n",
        "    sensor_specs.append(semantic_sensor_spec)\n",
        "\n",
        "    # Here you can specify the amount of displacement in a forward action and the turn angle\n",
        "    agent_cfg = habitat_sim.agent.AgentConfiguration()\n",
        "    agent_cfg.sensor_specifications = sensor_specs\n",
        "    agent_cfg.action_space = {\n",
        "        \"move_forward\": habitat_sim.agent.ActionSpec(\n",
        "            \"move_forward\", habitat_sim.agent.ActuationSpec(amount=0.25)\n",
        "        ),\n",
        "        \"turn_left\": habitat_sim.agent.ActionSpec(\n",
        "            \"turn_left\", habitat_sim.agent.ActuationSpec(amount=30.0)\n",
        "        ),\n",
        "        \"turn_right\": habitat_sim.agent.ActionSpec(\n",
        "            \"turn_right\", habitat_sim.agent.ActuationSpec(amount=30.0)\n",
        "        ),\n",
        "    }\n",
        "\n",
        "    return habitat_sim.Configuration(sim_cfg, [agent_cfg])"
      ]
    },
    {
      "cell_type": "code",
      "execution_count": null,
      "metadata": {
        "id": "PL_4HEAXhPNn"
      },
      "outputs": [],
      "source": [
        "cfg = make_cfg(sim_settings)\n",
        "# Needed to handle out of order cell run in Colab\n",
        "try:  \n",
        "    sim.close()\n",
        "except NameError:\n",
        "    pass\n",
        "sim = habitat_sim.Simulator(cfg)"
      ]
    },
    {
      "cell_type": "code",
      "execution_count": null,
      "metadata": {
        "id": "Q6z2rLQ1hPNo",
        "colab": {
          "base_uri": "https://localhost:8080/"
        },
        "outputId": "b35c215d-e019-4bee-f906-e7828d5e8bb7"
      },
      "outputs": [
        {
          "output_type": "stream",
          "name": "stdout",
          "text": [
            "agent_state: position [-0.6  0.   0. ] rotation quaternion(1, 0, 0, 0)\n"
          ]
        }
      ],
      "source": [
        "# the randomness is needed when choosing the actions\n",
        "random.seed(sim_settings[\"seed\"])\n",
        "sim.seed(sim_settings[\"seed\"])\n",
        "\n",
        "# Set agent state\n",
        "agent = sim.initialize_agent(sim_settings[\"default_agent\"])\n",
        "agent_state = habitat_sim.AgentState()\n",
        "agent_state.position = np.array([-0.6, 0.0, 0.0])  # world space\n",
        "agent.set_state(agent_state)\n",
        "\n",
        "# Get agent state\n",
        "agent_state = agent.get_state()\n",
        "print(\"agent_state: position\", agent_state.position, \"rotation\", agent_state.rotation)"
      ]
    },
    {
      "cell_type": "markdown",
      "metadata": {
        "id": "72DHNbAyhPNq"
      },
      "source": [
        "##Visualizing the NavMesh: Topdown Map\n"
      ]
    },
    {
      "cell_type": "code",
      "execution_count": null,
      "metadata": {
        "lines_to_next_cell": 2,
        "id": "Al5BH195hPNq",
        "colab": {
          "base_uri": "https://localhost:8080/",
          "height": 771
        },
        "outputId": "7a29106a-ea6e-48f5-8c78-51f55cbdd742"
      },
      "outputs": [
        {
          "output_type": "stream",
          "name": "stdout",
          "text": [
            "The NavMesh bounds are: (array([-11.59344 ,  -0.127553,  -5.392021], dtype=float32), array([4.757026, 4.278783, 2.88662 ], dtype=float32))\n",
            "Displaying the raw map from get_topdown_view:\n"
          ]
        },
        {
          "output_type": "display_data",
          "data": {
            "text/plain": [
              "<Figure size 864x576 with 1 Axes>"
            ],
            "image/png": "[encoded data removed]"
          },
          "metadata": {
            "needs_background": "light"
          }
        },
        {
          "output_type": "stream",
          "name": "stdout",
          "text": [
            "Displaying the map from the Habitat-Lab maps module:\n"
          ]
        },
        {
          "output_type": "display_data",
          "data": {
            "text/plain": [
              "<Figure size 864x576 with 1 Axes>"
            ],
            "image/png": "[encoded data removed]"
          },
          "metadata": {
            "needs_background": "light"
          }
        }
      ],
      "source": [
        "# convert 3d points to 2d topdown coordinates\n",
        "def convert_points_to_topdown(pathfinder, point, meters_per_pixel):\n",
        "    points_topdown = []\n",
        "    bounds = pathfinder.get_bounds()\n",
        "    #for point in points:\n",
        "        # convert 3D x,z to topdown x,y\n",
        "    px = (point[0] - bounds[0][0]) / meters_per_pixel\n",
        "    py = (point[2] - bounds[0][2]) / meters_per_pixel\n",
        "    #points_topdown.append(np.array([px, py]))\n",
        "    return np.array([px, py])\n",
        "\n",
        "\n",
        "# display a topdown map with matplotlib\n",
        "def display_map(topdown_map, key_points=None):\n",
        "    plt.figure(figsize=(12, 8))\n",
        "    ax = plt.subplot(1, 1, 1)\n",
        "    ax.axis(\"off\")\n",
        "    plt.imshow(topdown_map)\n",
        "    # plot points on map\n",
        "    if key_points is not None:\n",
        "        for point in key_points:\n",
        "            plt.plot(point[0], point[1], marker=\"o\", markersize=10, alpha=0.8)\n",
        "    plt.show(block=False)\n",
        "\n",
        "meters_per_pixel = 0.1  \n",
        "custom_height = False  \n",
        "height = 1  \n",
        "\n",
        "print(\"The NavMesh bounds are: \" + str(sim.pathfinder.get_bounds()))\n",
        "if not custom_height:\n",
        "    # get bounding box minumum elevation for automatic height\n",
        "    height = sim.pathfinder.get_bounds()[0][1]\n",
        "\n",
        "if not sim.pathfinder.is_loaded:\n",
        "    print(\"Pathfinder not initialized, aborting.\")\n",
        "else:\n",
        "\n",
        "    sim_topdown_map = sim.pathfinder.get_topdown_view(meters_per_pixel, height)\n",
        "\n",
        "    if display:\n",
        "        hablab_topdown_map = maps.get_topdown_map(\n",
        "            sim.pathfinder, height, meters_per_pixel=meters_per_pixel\n",
        "        )\n",
        "        recolor_map = np.array(\n",
        "            [[255, 255, 255], [128, 128, 128], [0, 0, 0]], dtype=np.uint8\n",
        "        )\n",
        "        hablab_topdown_map = recolor_map[hablab_topdown_map]\n",
        "        print(\"Displaying the raw map from get_topdown_view:\")\n",
        "        display_map(sim_topdown_map)\n",
        "        print(\"Displaying the map from the Habitat-Lab maps module:\")\n",
        "        display_map(hablab_topdown_map)\n",
        "\n",
        "        # easily save a map to file:\n",
        "        map_filename = os.path.join(output_path, \"top_down_map.png\")\n",
        "        imageio.imsave(map_filename, hablab_topdown_map)"
      ]
    },
    {
      "cell_type": "markdown",
      "source": [
        "## Dividing the map into four quadrants and creating landmarks "
      ],
      "metadata": {
        "id": "BdziX98NjQuQ"
      }
    },
    {
      "cell_type": "markdown",
      "source": [
        "### '0' - Empty space\n",
        "### '1' - Boundaries\n",
        "### '2' - Landmarks"
      ],
      "metadata": {
        "id": "9BJp6UhDjpO_"
      }
    },
    {
      "cell_type": "code",
      "source": [
        "newnewmap = np.zeros_like(hablab_topdown_map[:,:,0])\n",
        "newnewmap[hablab_topdown_map[:,:,0]==0] = 1\n",
        "\n",
        "xmid = newnewmap.shape[0]//2\n",
        "ymid = newnewmap.shape[1]//2\n",
        "\n",
        "quad_1 = np.argwhere(newnewmap[:xmid,:ymid] == 1)\n",
        "quad_2 = np.argwhere(newnewmap[:xmid,ymid:] == 1)\n",
        "quad_3 = np.argwhere(newnewmap[xmid:,:ymid] == 1)\n",
        "quad_4 = np.argwhere(newnewmap[xmid:,ymid:] == 1)\n",
        "\n",
        "rand_quad_1 = quad_1[np.random.randint(0,quad_1.shape[0], size=4)]\n",
        "rand_quad_2 = quad_2[np.random.randint(0,quad_2.shape[0], size=4)]\n",
        "rand_quad_3 = quad_3[np.random.randint(0,quad_3.shape[0], size=4)]\n",
        "rand_quad_4 = quad_4[np.random.randint(0,quad_4.shape[0], size=4)]\n",
        "\n",
        "for i in range(4):\n",
        "  newnewmap[rand_quad_1[i][0], rand_quad_1[i][1]] = 2\n",
        "  newnewmap[rand_quad_2[i][0], rand_quad_2[i][1] + ymid] = 2\n",
        "  newnewmap[rand_quad_3[i][0] + xmid, rand_quad_3[i][1]] = 2\n",
        "  newnewmap[rand_quad_4[i][0] + xmid, rand_quad_4[i][1] + ymid] = 2\n",
        "\n",
        "plt.imshow(newnewmap)\n",
        "\n",
        "beacons = np.argwhere(newnewmap==2)"
      ],
      "metadata": {
        "id": "-xTWteXD503W",
        "colab": {
          "base_uri": "https://localhost:8080/",
          "height": 219
        },
        "outputId": "3bf62a21-6e80-4d6d-d27e-a35a0c2a1131"
      },
      "execution_count": null,
      "outputs": [
        {
          "output_type": "display_data",
          "data": {
            "text/plain": [
              "<Figure size 432x288 with 1 Axes>"
            ],
            "image/png": "[encoded data removed]"
          },
          "metadata": {
            "needs_background": "light"
          }
        }
      ]
    },
    {
      "cell_type": "markdown",
      "source": [
        "## Generating trajectories for training and validation"
      ],
      "metadata": {
        "id": "GRcQ6MeQj49E"
      }
    },
    {
      "cell_type": "code",
      "source": [
        "from habitat_sim.utils.common import quat_to_coeffs\n",
        "from tqdm import tqdm\n",
        "\n",
        "action_names = list(cfg.agents[sim_settings[\"default_agent\"]].action_space.keys())\n",
        "\n",
        "#Habitat gives the quaternion of the agent. We convert and return yaw for the 2D map\n",
        "def euler_angles(quat):\n",
        "    q = quat_to_coeffs(quat)[[3,0,1,2]]\n",
        "    psi = math.atan2(2*(q[0]*q[3]+q[1]*q[2]), \\\n",
        "            1 - 2*(q[2]**2 + q[3]**2))\n",
        "    return psi\n",
        "\n",
        "def distance(x1, y1, x2, y2):\n",
        "  return math.sqrt((x1-x2)**2 + (y1-y1)**2)\n",
        "\n",
        "#Calculate distance from agent the five landmarks\n",
        "def distance_to_beacons(curr_pos):\n",
        "  distances = []\n",
        "  for beacon in beacons:\n",
        "    d = distance(beacon[0], beacon[1], curr_pos[0], curr_pos[1])\n",
        "    distances.append(d)\n",
        "  return sorted(distances)[:5]\n",
        "\n",
        "#Generate data with random actions\n",
        "def gen_data(num_trajs, max_frames = 80):\n",
        "  trajectories = []\n",
        "  actlist = []\n",
        "  for _ in tqdm(range(num_trajs)):\n",
        "    total_frames = 0\n",
        "    traj = np.zeros((max_frames,11))\n",
        "    while total_frames < max_frames:\n",
        "        action = random.choice(action_names)\n",
        "        actlist.append(action)\n",
        "        old_agent_state = agent.get_state()\n",
        "        old_yaw = euler_angles(old_agent_state.rotation)\n",
        "        observations = sim.step(action)\n",
        "        agent_state = agent.get_state()\n",
        "        yaw = euler_angles(agent_state.rotation)\n",
        "        xy_new = convert_points_to_topdown(\n",
        "              sim.pathfinder, agent_state.position, meters_per_pixel)\n",
        "        xy_old = convert_points_to_topdown(\n",
        "              sim.pathfinder, old_agent_state.position, meters_per_pixel)\n",
        "        act = xy_new - xy_old\n",
        "        dist = distance_to_beacons(xy_new)\n",
        "        traj[total_frames, :] = np.hstack((xy_new,np.array(yaw),act, np.array(yaw-old_yaw), np.array(dist)))\n",
        "        total_frames += 1\n",
        "\n",
        "    trajectories.append(traj)\n",
        "    \n",
        "  return dict(trajs=trajectories, map=newnewmap), actlist"
      ],
      "metadata": {
        "id": "57L8TaaEtiJJ"
      },
      "execution_count": null,
      "outputs": []
    },
    {
      "cell_type": "code",
      "source": [
        "num_trajs_train = 10000\n",
        "num_trajs_val = 500\n",
        "train_data, train_actlist = gen_data(num_trajs_train)\n",
        "val_data, val_actlist = gen_data(num_trajs_val)\n",
        "import csv"
      ],
      "metadata": {
        "colab": {
          "base_uri": "https://localhost:8080/"
        },
        "id": "s3C3smeGSdL6",
        "outputId": "c09b97fc-214c-4b78-c59d-a9cae6af590d"
      },
      "execution_count": null,
      "outputs": [
        {
          "output_type": "stream",
          "name": "stderr",
          "text": [
            "100%|██████████| 10000/10000 [23:26<00:00,  7.11it/s]\n",
            "100%|██████████| 500/500 [01:10<00:00,  7.11it/s]\n"
          ]
        }
      ]
    },
    {
      "cell_type": "markdown",
      "source": [
        "### Saving the actions to a CSV file and generated trajectories to an NPY file\n"
      ],
      "metadata": {
        "id": "RXk60wfQkoSe"
      }
    },
    {
      "cell_type": "code",
      "source": [
        "l1 = []\n",
        "with open('train_act.csv', 'w') as w:\n",
        "  writer = csv.writer(w)\n",
        "  for i, line in enumerate(train_actlist):\n",
        "      l1.append(line)\n",
        "      if (i+1)%80==0:\n",
        "        writer.writerow(l1)\n",
        "        l1.clear()\n",
        "l2=[]\n",
        "with open('val_act.csv', 'w') as w:\n",
        "  writer = csv.writer(w)\n",
        "  for i, line in enumerate(val_actlist):\n",
        "      l2.append(line)\n",
        "      if (i+1)%80==0:\n",
        "        writer.writerow(l2)\n",
        "        l2.clear()"
      ],
      "metadata": {
        "id": "Ga_BAR1fCmwy"
      },
      "execution_count": null,
      "outputs": []
    },
    {
      "cell_type": "code",
      "source": [
        "np.save('train_data.npy', train_data)\n",
        "np.save('val_data.npy', val_data)"
      ],
      "metadata": {
        "id": "ju2qoH4SppVg"
      },
      "execution_count": null,
      "outputs": []
    },
    {
      "cell_type": "markdown",
      "source": [
        "### Plotting a generated trajectory"
      ],
      "metadata": {
        "id": "HTBG6fJZljFI"
      }
    },
    {
      "cell_type": "code",
      "source": [
        "plt.figure(figsize=(12, 8))\n",
        "ax = plt.subplot(1, 1, 1)\n",
        "ax.axis(\"off\")\n",
        "plt.imshow(train_data['map']) \n",
        "for point in train_data['trajs'][40]:\n",
        "    plt.plot(point[0], point[1], marker='o')"
      ],
      "metadata": {
        "id": "Ct3a5hOJPelP",
        "colab": {
          "base_uri": "https://localhost:8080/",
          "height": 368
        },
        "outputId": "9bb796fa-e194-4446-f118-d419b98c4035"
      },
      "execution_count": null,
      "outputs": [
        {
          "output_type": "display_data",
          "data": {
            "text/plain": [
              "<Figure size 864x576 with 1 Axes>"
            ],
            "image/png": "[encoded data removed]"
          },
          "metadata": {
            "needs_background": "light"
          }
        }
      ]
    }
  ],
  "metadata": {
    "accelerator": "GPU",
    "colab": {
      "collapsed_sections": [],
      "name": "Trajectory Generation",
      "provenance": [],
      "machine_shape": "hm"
    },
    "jupytext": {
      "cell_metadata_filter": "-all",
      "formats": "nb_python//py:percent,colabs//ipynb",
      "main_language": "python",
      "notebook_metadata_filter": "all"
    },
    "kernelspec": {
      "display_name": "Python 3",
      "name": "python3"
    }
  },
  "nbformat": 4,
  "nbformat_minor": 0
}